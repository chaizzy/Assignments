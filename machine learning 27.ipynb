{
 "cells": [
  {
   "cell_type": "code",
   "execution_count": 78,
   "id": "b0bf92c8-c2cd-4ce4-b1ab-208569773043",
   "metadata": {},
   "outputs": [],
   "source": [
    "import pandas as pd\n",
    "import numpy as np\n",
    "import seaborn as sns\n",
    "from sklearn.datasets import  load_iris"
   ]
  },
  {
   "cell_type": "code",
   "execution_count": 79,
   "id": "4cdd7ea9-22c1-46ee-a394-a58b26a196c1",
   "metadata": {},
   "outputs": [],
   "source": [
    "# ANS 1:\n",
    "df = load_iris()"
   ]
  },
  {
   "cell_type": "code",
   "execution_count": 80,
   "id": "bb5ce535-635f-40a4-bb77-8e1b184bd1ab",
   "metadata": {},
   "outputs": [
    {
     "data": {
      "text/plain": [
       "dict_keys(['data', 'target', 'frame', 'target_names', 'DESCR', 'feature_names', 'filename', 'data_module'])"
      ]
     },
     "execution_count": 80,
     "metadata": {},
     "output_type": "execute_result"
    }
   ],
   "source": [
    "df.keys()"
   ]
  },
  {
   "cell_type": "code",
   "execution_count": 81,
   "id": "3cc8d8b6-1581-47a2-881d-0dc8ee6adb90",
   "metadata": {},
   "outputs": [],
   "source": [
    "x = df.data\n",
    "y = df.target"
   ]
  },
  {
   "cell_type": "code",
   "execution_count": 82,
   "id": "86fdb9bf-621f-4e0a-b9b5-12bbe39b982c",
   "metadata": {},
   "outputs": [],
   "source": [
    "from sklearn.model_selection import train_test_split\n",
    "x_train ,x_test,y_train,y_test =train_test_split(x,y,test_size=0.25,random_state=10)"
   ]
  },
  {
   "cell_type": "code",
   "execution_count": 83,
   "id": "62589112-01cb-42e9-b032-8a5c60928061",
   "metadata": {},
   "outputs": [],
   "source": [
    "from sklearn.neighbors import KNeighborsClassifier"
   ]
  },
  {
   "cell_type": "code",
   "execution_count": 84,
   "id": "52444704-665d-4a72-88df-64462de33af1",
   "metadata": {},
   "outputs": [],
   "source": [
    "classifier = KNeighborsClassifier(n_neighbors=3)"
   ]
  },
  {
   "cell_type": "code",
   "execution_count": 85,
   "id": "d1e70ce6-7ff9-4855-be29-dcbbf23ee695",
   "metadata": {},
   "outputs": [
    {
     "data": {
      "text/html": [
       "<style>#sk-container-id-8 {color: black;background-color: white;}#sk-container-id-8 pre{padding: 0;}#sk-container-id-8 div.sk-toggleable {background-color: white;}#sk-container-id-8 label.sk-toggleable__label {cursor: pointer;display: block;width: 100%;margin-bottom: 0;padding: 0.3em;box-sizing: border-box;text-align: center;}#sk-container-id-8 label.sk-toggleable__label-arrow:before {content: \"▸\";float: left;margin-right: 0.25em;color: #696969;}#sk-container-id-8 label.sk-toggleable__label-arrow:hover:before {color: black;}#sk-container-id-8 div.sk-estimator:hover label.sk-toggleable__label-arrow:before {color: black;}#sk-container-id-8 div.sk-toggleable__content {max-height: 0;max-width: 0;overflow: hidden;text-align: left;background-color: #f0f8ff;}#sk-container-id-8 div.sk-toggleable__content pre {margin: 0.2em;color: black;border-radius: 0.25em;background-color: #f0f8ff;}#sk-container-id-8 input.sk-toggleable__control:checked~div.sk-toggleable__content {max-height: 200px;max-width: 100%;overflow: auto;}#sk-container-id-8 input.sk-toggleable__control:checked~label.sk-toggleable__label-arrow:before {content: \"▾\";}#sk-container-id-8 div.sk-estimator input.sk-toggleable__control:checked~label.sk-toggleable__label {background-color: #d4ebff;}#sk-container-id-8 div.sk-label input.sk-toggleable__control:checked~label.sk-toggleable__label {background-color: #d4ebff;}#sk-container-id-8 input.sk-hidden--visually {border: 0;clip: rect(1px 1px 1px 1px);clip: rect(1px, 1px, 1px, 1px);height: 1px;margin: -1px;overflow: hidden;padding: 0;position: absolute;width: 1px;}#sk-container-id-8 div.sk-estimator {font-family: monospace;background-color: #f0f8ff;border: 1px dotted black;border-radius: 0.25em;box-sizing: border-box;margin-bottom: 0.5em;}#sk-container-id-8 div.sk-estimator:hover {background-color: #d4ebff;}#sk-container-id-8 div.sk-parallel-item::after {content: \"\";width: 100%;border-bottom: 1px solid gray;flex-grow: 1;}#sk-container-id-8 div.sk-label:hover label.sk-toggleable__label {background-color: #d4ebff;}#sk-container-id-8 div.sk-serial::before {content: \"\";position: absolute;border-left: 1px solid gray;box-sizing: border-box;top: 0;bottom: 0;left: 50%;z-index: 0;}#sk-container-id-8 div.sk-serial {display: flex;flex-direction: column;align-items: center;background-color: white;padding-right: 0.2em;padding-left: 0.2em;position: relative;}#sk-container-id-8 div.sk-item {position: relative;z-index: 1;}#sk-container-id-8 div.sk-parallel {display: flex;align-items: stretch;justify-content: center;background-color: white;position: relative;}#sk-container-id-8 div.sk-item::before, #sk-container-id-8 div.sk-parallel-item::before {content: \"\";position: absolute;border-left: 1px solid gray;box-sizing: border-box;top: 0;bottom: 0;left: 50%;z-index: -1;}#sk-container-id-8 div.sk-parallel-item {display: flex;flex-direction: column;z-index: 1;position: relative;background-color: white;}#sk-container-id-8 div.sk-parallel-item:first-child::after {align-self: flex-end;width: 50%;}#sk-container-id-8 div.sk-parallel-item:last-child::after {align-self: flex-start;width: 50%;}#sk-container-id-8 div.sk-parallel-item:only-child::after {width: 0;}#sk-container-id-8 div.sk-dashed-wrapped {border: 1px dashed gray;margin: 0 0.4em 0.5em 0.4em;box-sizing: border-box;padding-bottom: 0.4em;background-color: white;}#sk-container-id-8 div.sk-label label {font-family: monospace;font-weight: bold;display: inline-block;line-height: 1.2em;}#sk-container-id-8 div.sk-label-container {text-align: center;}#sk-container-id-8 div.sk-container {/* jupyter's `normalize.less` sets `[hidden] { display: none; }` but bootstrap.min.css set `[hidden] { display: none !important; }` so we also need the `!important` here to be able to override the default hidden behavior on the sphinx rendered scikit-learn.org. See: https://github.com/scikit-learn/scikit-learn/issues/21755 */display: inline-block !important;position: relative;}#sk-container-id-8 div.sk-text-repr-fallback {display: none;}</style><div id=\"sk-container-id-8\" class=\"sk-top-container\"><div class=\"sk-text-repr-fallback\"><pre>KNeighborsClassifier(n_neighbors=3)</pre><b>In a Jupyter environment, please rerun this cell to show the HTML representation or trust the notebook. <br />On GitHub, the HTML representation is unable to render, please try loading this page with nbviewer.org.</b></div><div class=\"sk-container\" hidden><div class=\"sk-item\"><div class=\"sk-estimator sk-toggleable\"><input class=\"sk-toggleable__control sk-hidden--visually\" id=\"sk-estimator-id-8\" type=\"checkbox\" checked><label for=\"sk-estimator-id-8\" class=\"sk-toggleable__label sk-toggleable__label-arrow\">KNeighborsClassifier</label><div class=\"sk-toggleable__content\"><pre>KNeighborsClassifier(n_neighbors=3)</pre></div></div></div></div></div>"
      ],
      "text/plain": [
       "KNeighborsClassifier(n_neighbors=3)"
      ]
     },
     "execution_count": 85,
     "metadata": {},
     "output_type": "execute_result"
    }
   ],
   "source": [
    "classifier.fit(x_train,y_train)"
   ]
  },
  {
   "cell_type": "code",
   "execution_count": 86,
   "id": "1d08ccca-73ac-47a2-8af5-943161ac2ee7",
   "metadata": {},
   "outputs": [],
   "source": [
    "y_pred = classifier.predict(x_test)"
   ]
  },
  {
   "cell_type": "code",
   "execution_count": 87,
   "id": "2a3533bd-3411-4cea-85bb-b936b3fc60a1",
   "metadata": {},
   "outputs": [],
   "source": [
    "from sklearn.metrics import accuracy_score"
   ]
  },
  {
   "cell_type": "code",
   "execution_count": 88,
   "id": "7053a767-215f-4139-9c13-069b951f4c3b",
   "metadata": {},
   "outputs": [
    {
     "name": "stdout",
     "output_type": "stream",
     "text": [
      "0.9736842105263158\n"
     ]
    }
   ],
   "source": [
    "print(accuracy_score(y_test,y_pred))"
   ]
  },
  {
   "cell_type": "code",
   "execution_count": 89,
   "id": "90f00c7c-0d2e-40cf-8409-4de184615416",
   "metadata": {},
   "outputs": [],
   "source": [
    "# ANS 2 \n",
    "df2 = pd.read_csv(\"BostonHousing.csv\")"
   ]
  },
  {
   "cell_type": "code",
   "execution_count": 90,
   "id": "31f2f5f7-48f7-440a-894e-58aaa0a8cc8c",
   "metadata": {},
   "outputs": [
    {
     "data": {
      "text/html": [
       "<div>\n",
       "<style scoped>\n",
       "    .dataframe tbody tr th:only-of-type {\n",
       "        vertical-align: middle;\n",
       "    }\n",
       "\n",
       "    .dataframe tbody tr th {\n",
       "        vertical-align: top;\n",
       "    }\n",
       "\n",
       "    .dataframe thead th {\n",
       "        text-align: right;\n",
       "    }\n",
       "</style>\n",
       "<table border=\"1\" class=\"dataframe\">\n",
       "  <thead>\n",
       "    <tr style=\"text-align: right;\">\n",
       "      <th></th>\n",
       "      <th>crim</th>\n",
       "      <th>zn</th>\n",
       "      <th>indus</th>\n",
       "      <th>chas</th>\n",
       "      <th>nox</th>\n",
       "      <th>rm</th>\n",
       "      <th>age</th>\n",
       "      <th>dis</th>\n",
       "      <th>rad</th>\n",
       "      <th>tax</th>\n",
       "      <th>ptratio</th>\n",
       "      <th>b</th>\n",
       "      <th>lstat</th>\n",
       "      <th>medv</th>\n",
       "    </tr>\n",
       "  </thead>\n",
       "  <tbody>\n",
       "    <tr>\n",
       "      <th>0</th>\n",
       "      <td>0.00632</td>\n",
       "      <td>18.0</td>\n",
       "      <td>2.31</td>\n",
       "      <td>0</td>\n",
       "      <td>0.538</td>\n",
       "      <td>6.575</td>\n",
       "      <td>65.2</td>\n",
       "      <td>4.0900</td>\n",
       "      <td>1</td>\n",
       "      <td>296</td>\n",
       "      <td>15.3</td>\n",
       "      <td>396.90</td>\n",
       "      <td>4.98</td>\n",
       "      <td>24.0</td>\n",
       "    </tr>\n",
       "    <tr>\n",
       "      <th>1</th>\n",
       "      <td>0.02731</td>\n",
       "      <td>0.0</td>\n",
       "      <td>7.07</td>\n",
       "      <td>0</td>\n",
       "      <td>0.469</td>\n",
       "      <td>6.421</td>\n",
       "      <td>78.9</td>\n",
       "      <td>4.9671</td>\n",
       "      <td>2</td>\n",
       "      <td>242</td>\n",
       "      <td>17.8</td>\n",
       "      <td>396.90</td>\n",
       "      <td>9.14</td>\n",
       "      <td>21.6</td>\n",
       "    </tr>\n",
       "    <tr>\n",
       "      <th>2</th>\n",
       "      <td>0.02729</td>\n",
       "      <td>0.0</td>\n",
       "      <td>7.07</td>\n",
       "      <td>0</td>\n",
       "      <td>0.469</td>\n",
       "      <td>7.185</td>\n",
       "      <td>61.1</td>\n",
       "      <td>4.9671</td>\n",
       "      <td>2</td>\n",
       "      <td>242</td>\n",
       "      <td>17.8</td>\n",
       "      <td>392.83</td>\n",
       "      <td>4.03</td>\n",
       "      <td>34.7</td>\n",
       "    </tr>\n",
       "    <tr>\n",
       "      <th>3</th>\n",
       "      <td>0.03237</td>\n",
       "      <td>0.0</td>\n",
       "      <td>2.18</td>\n",
       "      <td>0</td>\n",
       "      <td>0.458</td>\n",
       "      <td>6.998</td>\n",
       "      <td>45.8</td>\n",
       "      <td>6.0622</td>\n",
       "      <td>3</td>\n",
       "      <td>222</td>\n",
       "      <td>18.7</td>\n",
       "      <td>394.63</td>\n",
       "      <td>2.94</td>\n",
       "      <td>33.4</td>\n",
       "    </tr>\n",
       "    <tr>\n",
       "      <th>4</th>\n",
       "      <td>0.06905</td>\n",
       "      <td>0.0</td>\n",
       "      <td>2.18</td>\n",
       "      <td>0</td>\n",
       "      <td>0.458</td>\n",
       "      <td>7.147</td>\n",
       "      <td>54.2</td>\n",
       "      <td>6.0622</td>\n",
       "      <td>3</td>\n",
       "      <td>222</td>\n",
       "      <td>18.7</td>\n",
       "      <td>396.90</td>\n",
       "      <td>5.33</td>\n",
       "      <td>36.2</td>\n",
       "    </tr>\n",
       "  </tbody>\n",
       "</table>\n",
       "</div>"
      ],
      "text/plain": [
       "      crim    zn  indus  chas    nox     rm   age     dis  rad  tax  ptratio  \\\n",
       "0  0.00632  18.0   2.31     0  0.538  6.575  65.2  4.0900    1  296     15.3   \n",
       "1  0.02731   0.0   7.07     0  0.469  6.421  78.9  4.9671    2  242     17.8   \n",
       "2  0.02729   0.0   7.07     0  0.469  7.185  61.1  4.9671    2  242     17.8   \n",
       "3  0.03237   0.0   2.18     0  0.458  6.998  45.8  6.0622    3  222     18.7   \n",
       "4  0.06905   0.0   2.18     0  0.458  7.147  54.2  6.0622    3  222     18.7   \n",
       "\n",
       "        b  lstat  medv  \n",
       "0  396.90   4.98  24.0  \n",
       "1  396.90   9.14  21.6  \n",
       "2  392.83   4.03  34.7  \n",
       "3  394.63   2.94  33.4  \n",
       "4  396.90   5.33  36.2  "
      ]
     },
     "execution_count": 90,
     "metadata": {},
     "output_type": "execute_result"
    }
   ],
   "source": [
    "df2.head()"
   ]
  },
  {
   "cell_type": "code",
   "execution_count": 91,
   "id": "1675115c-868c-4990-8fb4-66e898c4aac6",
   "metadata": {},
   "outputs": [
    {
     "data": {
      "text/plain": [
       "crim       0\n",
       "zn         0\n",
       "indus      0\n",
       "chas       0\n",
       "nox        0\n",
       "rm         0\n",
       "age        0\n",
       "dis        0\n",
       "rad        0\n",
       "tax        0\n",
       "ptratio    0\n",
       "b          0\n",
       "lstat      0\n",
       "medv       0\n",
       "dtype: int64"
      ]
     },
     "execution_count": 91,
     "metadata": {},
     "output_type": "execute_result"
    }
   ],
   "source": [
    "df2.isnull().sum()"
   ]
  },
  {
   "cell_type": "code",
   "execution_count": 92,
   "id": "15743d86-cdec-4bbc-aac5-b6c23b4d6f91",
   "metadata": {},
   "outputs": [
    {
     "name": "stdout",
     "output_type": "stream",
     "text": [
      "<class 'pandas.core.frame.DataFrame'>\n",
      "RangeIndex: 506 entries, 0 to 505\n",
      "Data columns (total 14 columns):\n",
      " #   Column   Non-Null Count  Dtype  \n",
      "---  ------   --------------  -----  \n",
      " 0   crim     506 non-null    float64\n",
      " 1   zn       506 non-null    float64\n",
      " 2   indus    506 non-null    float64\n",
      " 3   chas     506 non-null    int64  \n",
      " 4   nox      506 non-null    float64\n",
      " 5   rm       506 non-null    float64\n",
      " 6   age      506 non-null    float64\n",
      " 7   dis      506 non-null    float64\n",
      " 8   rad      506 non-null    int64  \n",
      " 9   tax      506 non-null    int64  \n",
      " 10  ptratio  506 non-null    float64\n",
      " 11  b        506 non-null    float64\n",
      " 12  lstat    506 non-null    float64\n",
      " 13  medv     506 non-null    float64\n",
      "dtypes: float64(11), int64(3)\n",
      "memory usage: 55.5 KB\n"
     ]
    }
   ],
   "source": [
    "df2.info()"
   ]
  },
  {
   "cell_type": "code",
   "execution_count": 93,
   "id": "2dc09bbc-0cc5-4edb-a6b7-cfa0bd339781",
   "metadata": {},
   "outputs": [],
   "source": [
    "x1 = df2.iloc[:,:]\n",
    "y1 = df2[\"medv\"]"
   ]
  },
  {
   "cell_type": "code",
   "execution_count": 94,
   "id": "192f6f9d-212f-4387-b4eb-a2190968a8a4",
   "metadata": {},
   "outputs": [],
   "source": [
    "x1_train ,x1_test,y1_train,y1_test =train_test_split(x1,y1,test_size=0.25,random_state=10)"
   ]
  },
  {
   "cell_type": "code",
   "execution_count": 95,
   "id": "bb108c6d-8a70-471d-9185-2f1b99791e42",
   "metadata": {},
   "outputs": [],
   "source": [
    "from sklearn.neighbors import KNeighborsRegressor"
   ]
  },
  {
   "cell_type": "code",
   "execution_count": 96,
   "id": "39820488-6cbb-44a7-ab4c-65ac79169705",
   "metadata": {},
   "outputs": [],
   "source": [
    "regressor  = KNeighborsRegressor(n_neighbors=5,algorithm='auto')"
   ]
  },
  {
   "cell_type": "code",
   "execution_count": 100,
   "id": "d4f8c7a9-48f7-456f-a3c0-a9a322b31acb",
   "metadata": {},
   "outputs": [
    {
     "data": {
      "text/html": [
       "<style>#sk-container-id-10 {color: black;background-color: white;}#sk-container-id-10 pre{padding: 0;}#sk-container-id-10 div.sk-toggleable {background-color: white;}#sk-container-id-10 label.sk-toggleable__label {cursor: pointer;display: block;width: 100%;margin-bottom: 0;padding: 0.3em;box-sizing: border-box;text-align: center;}#sk-container-id-10 label.sk-toggleable__label-arrow:before {content: \"▸\";float: left;margin-right: 0.25em;color: #696969;}#sk-container-id-10 label.sk-toggleable__label-arrow:hover:before {color: black;}#sk-container-id-10 div.sk-estimator:hover label.sk-toggleable__label-arrow:before {color: black;}#sk-container-id-10 div.sk-toggleable__content {max-height: 0;max-width: 0;overflow: hidden;text-align: left;background-color: #f0f8ff;}#sk-container-id-10 div.sk-toggleable__content pre {margin: 0.2em;color: black;border-radius: 0.25em;background-color: #f0f8ff;}#sk-container-id-10 input.sk-toggleable__control:checked~div.sk-toggleable__content {max-height: 200px;max-width: 100%;overflow: auto;}#sk-container-id-10 input.sk-toggleable__control:checked~label.sk-toggleable__label-arrow:before {content: \"▾\";}#sk-container-id-10 div.sk-estimator input.sk-toggleable__control:checked~label.sk-toggleable__label {background-color: #d4ebff;}#sk-container-id-10 div.sk-label input.sk-toggleable__control:checked~label.sk-toggleable__label {background-color: #d4ebff;}#sk-container-id-10 input.sk-hidden--visually {border: 0;clip: rect(1px 1px 1px 1px);clip: rect(1px, 1px, 1px, 1px);height: 1px;margin: -1px;overflow: hidden;padding: 0;position: absolute;width: 1px;}#sk-container-id-10 div.sk-estimator {font-family: monospace;background-color: #f0f8ff;border: 1px dotted black;border-radius: 0.25em;box-sizing: border-box;margin-bottom: 0.5em;}#sk-container-id-10 div.sk-estimator:hover {background-color: #d4ebff;}#sk-container-id-10 div.sk-parallel-item::after {content: \"\";width: 100%;border-bottom: 1px solid gray;flex-grow: 1;}#sk-container-id-10 div.sk-label:hover label.sk-toggleable__label {background-color: #d4ebff;}#sk-container-id-10 div.sk-serial::before {content: \"\";position: absolute;border-left: 1px solid gray;box-sizing: border-box;top: 0;bottom: 0;left: 50%;z-index: 0;}#sk-container-id-10 div.sk-serial {display: flex;flex-direction: column;align-items: center;background-color: white;padding-right: 0.2em;padding-left: 0.2em;position: relative;}#sk-container-id-10 div.sk-item {position: relative;z-index: 1;}#sk-container-id-10 div.sk-parallel {display: flex;align-items: stretch;justify-content: center;background-color: white;position: relative;}#sk-container-id-10 div.sk-item::before, #sk-container-id-10 div.sk-parallel-item::before {content: \"\";position: absolute;border-left: 1px solid gray;box-sizing: border-box;top: 0;bottom: 0;left: 50%;z-index: -1;}#sk-container-id-10 div.sk-parallel-item {display: flex;flex-direction: column;z-index: 1;position: relative;background-color: white;}#sk-container-id-10 div.sk-parallel-item:first-child::after {align-self: flex-end;width: 50%;}#sk-container-id-10 div.sk-parallel-item:last-child::after {align-self: flex-start;width: 50%;}#sk-container-id-10 div.sk-parallel-item:only-child::after {width: 0;}#sk-container-id-10 div.sk-dashed-wrapped {border: 1px dashed gray;margin: 0 0.4em 0.5em 0.4em;box-sizing: border-box;padding-bottom: 0.4em;background-color: white;}#sk-container-id-10 div.sk-label label {font-family: monospace;font-weight: bold;display: inline-block;line-height: 1.2em;}#sk-container-id-10 div.sk-label-container {text-align: center;}#sk-container-id-10 div.sk-container {/* jupyter's `normalize.less` sets `[hidden] { display: none; }` but bootstrap.min.css set `[hidden] { display: none !important; }` so we also need the `!important` here to be able to override the default hidden behavior on the sphinx rendered scikit-learn.org. See: https://github.com/scikit-learn/scikit-learn/issues/21755 */display: inline-block !important;position: relative;}#sk-container-id-10 div.sk-text-repr-fallback {display: none;}</style><div id=\"sk-container-id-10\" class=\"sk-top-container\"><div class=\"sk-text-repr-fallback\"><pre>KNeighborsRegressor()</pre><b>In a Jupyter environment, please rerun this cell to show the HTML representation or trust the notebook. <br />On GitHub, the HTML representation is unable to render, please try loading this page with nbviewer.org.</b></div><div class=\"sk-container\" hidden><div class=\"sk-item\"><div class=\"sk-estimator sk-toggleable\"><input class=\"sk-toggleable__control sk-hidden--visually\" id=\"sk-estimator-id-10\" type=\"checkbox\" checked><label for=\"sk-estimator-id-10\" class=\"sk-toggleable__label sk-toggleable__label-arrow\">KNeighborsRegressor</label><div class=\"sk-toggleable__content\"><pre>KNeighborsRegressor()</pre></div></div></div></div></div>"
      ],
      "text/plain": [
       "KNeighborsRegressor()"
      ]
     },
     "execution_count": 100,
     "metadata": {},
     "output_type": "execute_result"
    }
   ],
   "source": [
    "regressor.fit(x1_train,y1_train)"
   ]
  },
  {
   "cell_type": "code",
   "execution_count": 101,
   "id": "2361c6cf-907e-42d9-b5c6-cc2131fe4843",
   "metadata": {},
   "outputs": [],
   "source": [
    "y1_pred = regressor.predict(x1_test)"
   ]
  },
  {
   "cell_type": "code",
   "execution_count": 102,
   "id": "1e1276e2-d3dd-467d-96eb-4d7c72194b99",
   "metadata": {},
   "outputs": [],
   "source": [
    "from sklearn.metrics import r2_score"
   ]
  },
  {
   "cell_type": "code",
   "execution_count": 103,
   "id": "8bcc9088-6a5f-4126-81ae-7ea236787379",
   "metadata": {},
   "outputs": [
    {
     "name": "stdout",
     "output_type": "stream",
     "text": [
      "0.6719910382472389\n"
     ]
    }
   ],
   "source": [
    "print(r2_score(y1_test,y1_pred))"
   ]
  },
  {
   "cell_type": "code",
   "execution_count": 109,
   "id": "cfa7b2c3-10f9-4234-afc6-3d0d88073d8d",
   "metadata": {},
   "outputs": [],
   "source": [
    "# ANS 3:\n",
    "parametrs = {\n",
    "    'n_neighbors':[1,2,3,4,5,6,7,8,9],\n",
    "    'algorithm':['ball_tree','kd_tree']\n",
    "}"
   ]
  },
  {
   "cell_type": "code",
   "execution_count": 110,
   "id": "f26865a3-e9ac-459f-b737-14daa6f9acec",
   "metadata": {},
   "outputs": [],
   "source": [
    "from sklearn.model_selection import GridSearchCV"
   ]
  },
  {
   "cell_type": "code",
   "execution_count": 111,
   "id": "37854f4d-357f-4203-a594-8e415d895b6d",
   "metadata": {},
   "outputs": [],
   "source": [
    "clf = GridSearchCV(classifier,param_grid=parametrs,cv=3,verbose=3,refit=True)"
   ]
  },
  {
   "cell_type": "code",
   "execution_count": 112,
   "id": "de7c1ecf-6b6a-41b4-8f2a-8705eed1e68c",
   "metadata": {},
   "outputs": [
    {
     "name": "stdout",
     "output_type": "stream",
     "text": [
      "Fitting 3 folds for each of 18 candidates, totalling 54 fits\n",
      "[CV 1/3] END algorithm=ball_tree, n_neighbors=1;, score=0.868 total time=   0.0s\n",
      "[CV 2/3] END algorithm=ball_tree, n_neighbors=1;, score=0.919 total time=   0.0s\n",
      "[CV 3/3] END algorithm=ball_tree, n_neighbors=1;, score=1.000 total time=   0.0s\n",
      "[CV 1/3] END algorithm=ball_tree, n_neighbors=2;, score=0.921 total time=   0.0s\n",
      "[CV 2/3] END algorithm=ball_tree, n_neighbors=2;, score=0.838 total time=   0.0s\n",
      "[CV 3/3] END algorithm=ball_tree, n_neighbors=2;, score=0.973 total time=   0.0s\n",
      "[CV 1/3] END algorithm=ball_tree, n_neighbors=3;, score=0.895 total time=   0.0s\n",
      "[CV 2/3] END algorithm=ball_tree, n_neighbors=3;, score=0.919 total time=   0.0s\n",
      "[CV 3/3] END algorithm=ball_tree, n_neighbors=3;, score=0.973 total time=   0.0s\n",
      "[CV 1/3] END algorithm=ball_tree, n_neighbors=4;, score=0.921 total time=   0.0s\n",
      "[CV 2/3] END algorithm=ball_tree, n_neighbors=4;, score=0.892 total time=   0.0s\n",
      "[CV 3/3] END algorithm=ball_tree, n_neighbors=4;, score=0.946 total time=   0.0s\n",
      "[CV 1/3] END algorithm=ball_tree, n_neighbors=5;, score=0.895 total time=   0.0s\n",
      "[CV 2/3] END algorithm=ball_tree, n_neighbors=5;, score=0.919 total time=   0.0s\n",
      "[CV 3/3] END algorithm=ball_tree, n_neighbors=5;, score=0.946 total time=   0.0s\n",
      "[CV 1/3] END algorithm=ball_tree, n_neighbors=6;, score=0.921 total time=   0.0s\n",
      "[CV 2/3] END algorithm=ball_tree, n_neighbors=6;, score=0.919 total time=   0.0s\n",
      "[CV 3/3] END algorithm=ball_tree, n_neighbors=6;, score=0.946 total time=   0.0s\n",
      "[CV 1/3] END algorithm=ball_tree, n_neighbors=7;, score=0.895 total time=   0.0s\n",
      "[CV 2/3] END algorithm=ball_tree, n_neighbors=7;, score=0.919 total time=   0.0s\n",
      "[CV 3/3] END algorithm=ball_tree, n_neighbors=7;, score=0.946 total time=   0.0s\n",
      "[CV 1/3] END algorithm=ball_tree, n_neighbors=8;, score=0.921 total time=   0.0s\n",
      "[CV 2/3] END algorithm=ball_tree, n_neighbors=8;, score=0.892 total time=   0.0s\n",
      "[CV 3/3] END algorithm=ball_tree, n_neighbors=8;, score=0.946 total time=   0.0s\n",
      "[CV 1/3] END algorithm=ball_tree, n_neighbors=9;, score=0.895 total time=   0.0s\n",
      "[CV 2/3] END algorithm=ball_tree, n_neighbors=9;, score=0.919 total time=   0.0s\n",
      "[CV 3/3] END algorithm=ball_tree, n_neighbors=9;, score=0.946 total time=   0.0s\n",
      "[CV 1/3] END ..algorithm=kd_tree, n_neighbors=1;, score=0.868 total time=   0.0s\n",
      "[CV 2/3] END ..algorithm=kd_tree, n_neighbors=1;, score=0.919 total time=   0.0s\n",
      "[CV 3/3] END ..algorithm=kd_tree, n_neighbors=1;, score=1.000 total time=   0.0s\n",
      "[CV 1/3] END ..algorithm=kd_tree, n_neighbors=2;, score=0.921 total time=   0.0s\n",
      "[CV 2/3] END ..algorithm=kd_tree, n_neighbors=2;, score=0.838 total time=   0.0s\n",
      "[CV 3/3] END ..algorithm=kd_tree, n_neighbors=2;, score=0.973 total time=   0.0s\n",
      "[CV 1/3] END ..algorithm=kd_tree, n_neighbors=3;, score=0.895 total time=   0.0s\n",
      "[CV 2/3] END ..algorithm=kd_tree, n_neighbors=3;, score=0.919 total time=   0.0s\n",
      "[CV 3/3] END ..algorithm=kd_tree, n_neighbors=3;, score=0.973 total time=   0.0s\n",
      "[CV 1/3] END ..algorithm=kd_tree, n_neighbors=4;, score=0.921 total time=   0.0s\n",
      "[CV 2/3] END ..algorithm=kd_tree, n_neighbors=4;, score=0.892 total time=   0.0s\n",
      "[CV 3/3] END ..algorithm=kd_tree, n_neighbors=4;, score=0.946 total time=   0.0s\n",
      "[CV 1/3] END ..algorithm=kd_tree, n_neighbors=5;, score=0.895 total time=   0.0s\n",
      "[CV 2/3] END ..algorithm=kd_tree, n_neighbors=5;, score=0.919 total time=   0.0s\n",
      "[CV 3/3] END ..algorithm=kd_tree, n_neighbors=5;, score=0.946 total time=   0.0s\n",
      "[CV 1/3] END ..algorithm=kd_tree, n_neighbors=6;, score=0.921 total time=   0.0s\n",
      "[CV 2/3] END ..algorithm=kd_tree, n_neighbors=6;, score=0.919 total time=   0.0s\n",
      "[CV 3/3] END ..algorithm=kd_tree, n_neighbors=6;, score=0.946 total time=   0.0s\n",
      "[CV 1/3] END ..algorithm=kd_tree, n_neighbors=7;, score=0.895 total time=   0.0s\n",
      "[CV 2/3] END ..algorithm=kd_tree, n_neighbors=7;, score=0.919 total time=   0.0s\n",
      "[CV 3/3] END ..algorithm=kd_tree, n_neighbors=7;, score=0.946 total time=   0.0s\n",
      "[CV 1/3] END ..algorithm=kd_tree, n_neighbors=8;, score=0.921 total time=   0.0s\n",
      "[CV 2/3] END ..algorithm=kd_tree, n_neighbors=8;, score=0.892 total time=   0.0s\n",
      "[CV 3/3] END ..algorithm=kd_tree, n_neighbors=8;, score=0.946 total time=   0.0s\n",
      "[CV 1/3] END ..algorithm=kd_tree, n_neighbors=9;, score=0.895 total time=   0.0s\n",
      "[CV 2/3] END ..algorithm=kd_tree, n_neighbors=9;, score=0.919 total time=   0.0s\n",
      "[CV 3/3] END ..algorithm=kd_tree, n_neighbors=9;, score=0.946 total time=   0.0s\n"
     ]
    },
    {
     "data": {
      "text/html": [
       "<style>#sk-container-id-11 {color: black;background-color: white;}#sk-container-id-11 pre{padding: 0;}#sk-container-id-11 div.sk-toggleable {background-color: white;}#sk-container-id-11 label.sk-toggleable__label {cursor: pointer;display: block;width: 100%;margin-bottom: 0;padding: 0.3em;box-sizing: border-box;text-align: center;}#sk-container-id-11 label.sk-toggleable__label-arrow:before {content: \"▸\";float: left;margin-right: 0.25em;color: #696969;}#sk-container-id-11 label.sk-toggleable__label-arrow:hover:before {color: black;}#sk-container-id-11 div.sk-estimator:hover label.sk-toggleable__label-arrow:before {color: black;}#sk-container-id-11 div.sk-toggleable__content {max-height: 0;max-width: 0;overflow: hidden;text-align: left;background-color: #f0f8ff;}#sk-container-id-11 div.sk-toggleable__content pre {margin: 0.2em;color: black;border-radius: 0.25em;background-color: #f0f8ff;}#sk-container-id-11 input.sk-toggleable__control:checked~div.sk-toggleable__content {max-height: 200px;max-width: 100%;overflow: auto;}#sk-container-id-11 input.sk-toggleable__control:checked~label.sk-toggleable__label-arrow:before {content: \"▾\";}#sk-container-id-11 div.sk-estimator input.sk-toggleable__control:checked~label.sk-toggleable__label {background-color: #d4ebff;}#sk-container-id-11 div.sk-label input.sk-toggleable__control:checked~label.sk-toggleable__label {background-color: #d4ebff;}#sk-container-id-11 input.sk-hidden--visually {border: 0;clip: rect(1px 1px 1px 1px);clip: rect(1px, 1px, 1px, 1px);height: 1px;margin: -1px;overflow: hidden;padding: 0;position: absolute;width: 1px;}#sk-container-id-11 div.sk-estimator {font-family: monospace;background-color: #f0f8ff;border: 1px dotted black;border-radius: 0.25em;box-sizing: border-box;margin-bottom: 0.5em;}#sk-container-id-11 div.sk-estimator:hover {background-color: #d4ebff;}#sk-container-id-11 div.sk-parallel-item::after {content: \"\";width: 100%;border-bottom: 1px solid gray;flex-grow: 1;}#sk-container-id-11 div.sk-label:hover label.sk-toggleable__label {background-color: #d4ebff;}#sk-container-id-11 div.sk-serial::before {content: \"\";position: absolute;border-left: 1px solid gray;box-sizing: border-box;top: 0;bottom: 0;left: 50%;z-index: 0;}#sk-container-id-11 div.sk-serial {display: flex;flex-direction: column;align-items: center;background-color: white;padding-right: 0.2em;padding-left: 0.2em;position: relative;}#sk-container-id-11 div.sk-item {position: relative;z-index: 1;}#sk-container-id-11 div.sk-parallel {display: flex;align-items: stretch;justify-content: center;background-color: white;position: relative;}#sk-container-id-11 div.sk-item::before, #sk-container-id-11 div.sk-parallel-item::before {content: \"\";position: absolute;border-left: 1px solid gray;box-sizing: border-box;top: 0;bottom: 0;left: 50%;z-index: -1;}#sk-container-id-11 div.sk-parallel-item {display: flex;flex-direction: column;z-index: 1;position: relative;background-color: white;}#sk-container-id-11 div.sk-parallel-item:first-child::after {align-self: flex-end;width: 50%;}#sk-container-id-11 div.sk-parallel-item:last-child::after {align-self: flex-start;width: 50%;}#sk-container-id-11 div.sk-parallel-item:only-child::after {width: 0;}#sk-container-id-11 div.sk-dashed-wrapped {border: 1px dashed gray;margin: 0 0.4em 0.5em 0.4em;box-sizing: border-box;padding-bottom: 0.4em;background-color: white;}#sk-container-id-11 div.sk-label label {font-family: monospace;font-weight: bold;display: inline-block;line-height: 1.2em;}#sk-container-id-11 div.sk-label-container {text-align: center;}#sk-container-id-11 div.sk-container {/* jupyter's `normalize.less` sets `[hidden] { display: none; }` but bootstrap.min.css set `[hidden] { display: none !important; }` so we also need the `!important` here to be able to override the default hidden behavior on the sphinx rendered scikit-learn.org. See: https://github.com/scikit-learn/scikit-learn/issues/21755 */display: inline-block !important;position: relative;}#sk-container-id-11 div.sk-text-repr-fallback {display: none;}</style><div id=\"sk-container-id-11\" class=\"sk-top-container\"><div class=\"sk-text-repr-fallback\"><pre>GridSearchCV(cv=3, estimator=KNeighborsClassifier(n_neighbors=3),\n",
       "             param_grid={&#x27;algorithm&#x27;: [&#x27;ball_tree&#x27;, &#x27;kd_tree&#x27;],\n",
       "                         &#x27;n_neighbors&#x27;: [1, 2, 3, 4, 5, 6, 7, 8, 9]},\n",
       "             verbose=3)</pre><b>In a Jupyter environment, please rerun this cell to show the HTML representation or trust the notebook. <br />On GitHub, the HTML representation is unable to render, please try loading this page with nbviewer.org.</b></div><div class=\"sk-container\" hidden><div class=\"sk-item sk-dashed-wrapped\"><div class=\"sk-label-container\"><div class=\"sk-label sk-toggleable\"><input class=\"sk-toggleable__control sk-hidden--visually\" id=\"sk-estimator-id-11\" type=\"checkbox\" ><label for=\"sk-estimator-id-11\" class=\"sk-toggleable__label sk-toggleable__label-arrow\">GridSearchCV</label><div class=\"sk-toggleable__content\"><pre>GridSearchCV(cv=3, estimator=KNeighborsClassifier(n_neighbors=3),\n",
       "             param_grid={&#x27;algorithm&#x27;: [&#x27;ball_tree&#x27;, &#x27;kd_tree&#x27;],\n",
       "                         &#x27;n_neighbors&#x27;: [1, 2, 3, 4, 5, 6, 7, 8, 9]},\n",
       "             verbose=3)</pre></div></div></div><div class=\"sk-parallel\"><div class=\"sk-parallel-item\"><div class=\"sk-item\"><div class=\"sk-label-container\"><div class=\"sk-label sk-toggleable\"><input class=\"sk-toggleable__control sk-hidden--visually\" id=\"sk-estimator-id-12\" type=\"checkbox\" ><label for=\"sk-estimator-id-12\" class=\"sk-toggleable__label sk-toggleable__label-arrow\">estimator: KNeighborsClassifier</label><div class=\"sk-toggleable__content\"><pre>KNeighborsClassifier(n_neighbors=3)</pre></div></div></div><div class=\"sk-serial\"><div class=\"sk-item\"><div class=\"sk-estimator sk-toggleable\"><input class=\"sk-toggleable__control sk-hidden--visually\" id=\"sk-estimator-id-13\" type=\"checkbox\" ><label for=\"sk-estimator-id-13\" class=\"sk-toggleable__label sk-toggleable__label-arrow\">KNeighborsClassifier</label><div class=\"sk-toggleable__content\"><pre>KNeighborsClassifier(n_neighbors=3)</pre></div></div></div></div></div></div></div></div></div></div>"
      ],
      "text/plain": [
       "GridSearchCV(cv=3, estimator=KNeighborsClassifier(n_neighbors=3),\n",
       "             param_grid={'algorithm': ['ball_tree', 'kd_tree'],\n",
       "                         'n_neighbors': [1, 2, 3, 4, 5, 6, 7, 8, 9]},\n",
       "             verbose=3)"
      ]
     },
     "execution_count": 112,
     "metadata": {},
     "output_type": "execute_result"
    }
   ],
   "source": [
    "clf.fit(x_train,y_train)"
   ]
  },
  {
   "cell_type": "code",
   "execution_count": 113,
   "id": "408c2880-2c90-4e9a-b8e3-cf2ab04d184e",
   "metadata": {},
   "outputs": [
    {
     "data": {
      "text/plain": [
       "{'algorithm': 'ball_tree', 'n_neighbors': 1}"
      ]
     },
     "execution_count": 113,
     "metadata": {},
     "output_type": "execute_result"
    }
   ],
   "source": [
    "clf.best_params_"
   ]
  },
  {
   "cell_type": "code",
   "execution_count": 114,
   "id": "3c88ad8c-069c-4f26-bebf-b7728bc6d463",
   "metadata": {},
   "outputs": [],
   "source": [
    "# ANS 4:\n",
    "from sklearn.preprocessing import StandardScaler"
   ]
  },
  {
   "cell_type": "code",
   "execution_count": 115,
   "id": "20b57d02-5bb2-4727-9a0a-331f1183d21a",
   "metadata": {},
   "outputs": [],
   "source": [
    "scaler = StandardScaler()"
   ]
  },
  {
   "cell_type": "code",
   "execution_count": 123,
   "id": "59153e60-7b2d-4916-ba7c-6503a6897c4f",
   "metadata": {},
   "outputs": [
    {
     "data": {
      "text/plain": [
       "array([[-0.23129049, -0.48214334,  1.15722245, ..., -1.31262649,\n",
       "        -0.12068074,  0.21148003],\n",
       "       [-0.38232604, -0.48214334, -0.2326932 , ...,  0.43624006,\n",
       "        -0.37121508,  0.13215633],\n",
       "       [-0.418341  , -0.48214334, -1.23923336, ...,  0.45387482,\n",
       "        -0.95814105,  1.27668401],\n",
       "       ...,\n",
       "       [-0.16882547, -0.48214334,  0.94471469, ...,  0.18079703,\n",
       "         0.04821882, -0.15114259],\n",
       "       [-0.40749396, -0.48214334,  2.02879146, ...,  0.32990981,\n",
       "         0.25512078, -0.06048694],\n",
       "       [-0.34348321,  0.34940308, -1.08416012, ...,  0.40691838,\n",
       "        -0.35854762,  0.09816046]])"
      ]
     },
     "execution_count": 123,
     "metadata": {},
     "output_type": "execute_result"
    }
   ],
   "source": [
    "scaler.fit_transform(x1_train)"
   ]
  },
  {
   "cell_type": "code",
   "execution_count": 124,
   "id": "fbef7fb6-4c02-4457-86c5-a3600aef265d",
   "metadata": {},
   "outputs": [
    {
     "data": {
      "text/plain": [
       "array([[-0.41983271,  0.88990826, -1.34117965, ...,  0.41693575,\n",
       "        -0.57248706,  0.73275006],\n",
       "       [-0.42338863,  2.01249593, -1.2334899 , ...,  0.4170401 ,\n",
       "        -1.12141062,  1.03871291],\n",
       "       [-0.42187963,  2.84404235, -1.17031192, ...,  0.45387482,\n",
       "        -1.17208049,  0.17748416],\n",
       "       ...,\n",
       "       [-0.35317339, -0.48214334, -0.48540514, ...,  0.24497083,\n",
       "         0.25512078, -0.60442088],\n",
       "       [-0.41583717, -0.48214334, -1.07267322, ...,  0.43926615,\n",
       "        -0.5570046 ,  0.18881612],\n",
       "       [ 0.37002059, -0.48214334,  0.94471469, ..., -2.67832848,\n",
       "         1.19955081, -1.23901048]])"
      ]
     },
     "execution_count": 124,
     "metadata": {},
     "output_type": "execute_result"
    }
   ],
   "source": [
    "scaler.transform(x1_test)"
   ]
  },
  {
   "cell_type": "code",
   "execution_count": 125,
   "id": "677e464c-1fe4-4441-b362-b1911afc82ea",
   "metadata": {},
   "outputs": [],
   "source": [
    "# ANS 5:\n",
    "classifier1  = KNeighborsClassifier(n_neighbors=3,weights='distance')"
   ]
  },
  {
   "cell_type": "code",
   "execution_count": 126,
   "id": "97545973-49b8-47ee-b9c3-d86ab38cfdf3",
   "metadata": {},
   "outputs": [
    {
     "data": {
      "text/html": [
       "<style>#sk-container-id-12 {color: black;background-color: white;}#sk-container-id-12 pre{padding: 0;}#sk-container-id-12 div.sk-toggleable {background-color: white;}#sk-container-id-12 label.sk-toggleable__label {cursor: pointer;display: block;width: 100%;margin-bottom: 0;padding: 0.3em;box-sizing: border-box;text-align: center;}#sk-container-id-12 label.sk-toggleable__label-arrow:before {content: \"▸\";float: left;margin-right: 0.25em;color: #696969;}#sk-container-id-12 label.sk-toggleable__label-arrow:hover:before {color: black;}#sk-container-id-12 div.sk-estimator:hover label.sk-toggleable__label-arrow:before {color: black;}#sk-container-id-12 div.sk-toggleable__content {max-height: 0;max-width: 0;overflow: hidden;text-align: left;background-color: #f0f8ff;}#sk-container-id-12 div.sk-toggleable__content pre {margin: 0.2em;color: black;border-radius: 0.25em;background-color: #f0f8ff;}#sk-container-id-12 input.sk-toggleable__control:checked~div.sk-toggleable__content {max-height: 200px;max-width: 100%;overflow: auto;}#sk-container-id-12 input.sk-toggleable__control:checked~label.sk-toggleable__label-arrow:before {content: \"▾\";}#sk-container-id-12 div.sk-estimator input.sk-toggleable__control:checked~label.sk-toggleable__label {background-color: #d4ebff;}#sk-container-id-12 div.sk-label input.sk-toggleable__control:checked~label.sk-toggleable__label {background-color: #d4ebff;}#sk-container-id-12 input.sk-hidden--visually {border: 0;clip: rect(1px 1px 1px 1px);clip: rect(1px, 1px, 1px, 1px);height: 1px;margin: -1px;overflow: hidden;padding: 0;position: absolute;width: 1px;}#sk-container-id-12 div.sk-estimator {font-family: monospace;background-color: #f0f8ff;border: 1px dotted black;border-radius: 0.25em;box-sizing: border-box;margin-bottom: 0.5em;}#sk-container-id-12 div.sk-estimator:hover {background-color: #d4ebff;}#sk-container-id-12 div.sk-parallel-item::after {content: \"\";width: 100%;border-bottom: 1px solid gray;flex-grow: 1;}#sk-container-id-12 div.sk-label:hover label.sk-toggleable__label {background-color: #d4ebff;}#sk-container-id-12 div.sk-serial::before {content: \"\";position: absolute;border-left: 1px solid gray;box-sizing: border-box;top: 0;bottom: 0;left: 50%;z-index: 0;}#sk-container-id-12 div.sk-serial {display: flex;flex-direction: column;align-items: center;background-color: white;padding-right: 0.2em;padding-left: 0.2em;position: relative;}#sk-container-id-12 div.sk-item {position: relative;z-index: 1;}#sk-container-id-12 div.sk-parallel {display: flex;align-items: stretch;justify-content: center;background-color: white;position: relative;}#sk-container-id-12 div.sk-item::before, #sk-container-id-12 div.sk-parallel-item::before {content: \"\";position: absolute;border-left: 1px solid gray;box-sizing: border-box;top: 0;bottom: 0;left: 50%;z-index: -1;}#sk-container-id-12 div.sk-parallel-item {display: flex;flex-direction: column;z-index: 1;position: relative;background-color: white;}#sk-container-id-12 div.sk-parallel-item:first-child::after {align-self: flex-end;width: 50%;}#sk-container-id-12 div.sk-parallel-item:last-child::after {align-self: flex-start;width: 50%;}#sk-container-id-12 div.sk-parallel-item:only-child::after {width: 0;}#sk-container-id-12 div.sk-dashed-wrapped {border: 1px dashed gray;margin: 0 0.4em 0.5em 0.4em;box-sizing: border-box;padding-bottom: 0.4em;background-color: white;}#sk-container-id-12 div.sk-label label {font-family: monospace;font-weight: bold;display: inline-block;line-height: 1.2em;}#sk-container-id-12 div.sk-label-container {text-align: center;}#sk-container-id-12 div.sk-container {/* jupyter's `normalize.less` sets `[hidden] { display: none; }` but bootstrap.min.css set `[hidden] { display: none !important; }` so we also need the `!important` here to be able to override the default hidden behavior on the sphinx rendered scikit-learn.org. See: https://github.com/scikit-learn/scikit-learn/issues/21755 */display: inline-block !important;position: relative;}#sk-container-id-12 div.sk-text-repr-fallback {display: none;}</style><div id=\"sk-container-id-12\" class=\"sk-top-container\"><div class=\"sk-text-repr-fallback\"><pre>KNeighborsClassifier(n_neighbors=3, weights=&#x27;distance&#x27;)</pre><b>In a Jupyter environment, please rerun this cell to show the HTML representation or trust the notebook. <br />On GitHub, the HTML representation is unable to render, please try loading this page with nbviewer.org.</b></div><div class=\"sk-container\" hidden><div class=\"sk-item\"><div class=\"sk-estimator sk-toggleable\"><input class=\"sk-toggleable__control sk-hidden--visually\" id=\"sk-estimator-id-14\" type=\"checkbox\" checked><label for=\"sk-estimator-id-14\" class=\"sk-toggleable__label sk-toggleable__label-arrow\">KNeighborsClassifier</label><div class=\"sk-toggleable__content\"><pre>KNeighborsClassifier(n_neighbors=3, weights=&#x27;distance&#x27;)</pre></div></div></div></div></div>"
      ],
      "text/plain": [
       "KNeighborsClassifier(n_neighbors=3, weights='distance')"
      ]
     },
     "execution_count": 126,
     "metadata": {},
     "output_type": "execute_result"
    }
   ],
   "source": [
    "classifier1.fit(x_train,y_train)"
   ]
  },
  {
   "cell_type": "code",
   "execution_count": 127,
   "id": "50947912-4f79-4580-a116-de19c907f4d9",
   "metadata": {},
   "outputs": [],
   "source": [
    "y_pred2 = classifier.predict(x_test)"
   ]
  },
  {
   "cell_type": "code",
   "execution_count": 128,
   "id": "dba1b877-2088-478a-bb86-d17d5b6fb830",
   "metadata": {},
   "outputs": [
    {
     "name": "stdout",
     "output_type": "stream",
     "text": [
      "0.9736842105263158\n"
     ]
    }
   ],
   "source": [
    "print(accuracy_score(y_test,y_pred2))"
   ]
  },
  {
   "cell_type": "code",
   "execution_count": 131,
   "id": "50320056-eb42-47bc-b686-b7cae0349565",
   "metadata": {},
   "outputs": [
    {
     "data": {
      "text/plain": [
       "array([[ 2.2256217 , -1.08471126,  1.7819506 ,  1.44375315],\n",
       "       [ 1.26827314,  0.04645877,  0.77482629,  1.44375315],\n",
       "       [-1.00542968,  0.72516079, -1.18347098, -1.02396308],\n",
       "       [-1.00542968,  0.95139479, -1.18347098, -0.76420347],\n",
       "       [-0.76609254, -0.85847725,  0.10341009,  0.27483494],\n",
       "       [-1.60377252, -1.76341327, -1.35132503, -1.15384288],\n",
       "       [ 0.55026173,  0.49892678,  0.55102089,  0.53459454],\n",
       "       [-0.76609254,  2.30879882, -1.23942233, -1.41360248],\n",
       "       [ 1.26827314,  0.04645877,  0.66292359,  0.40471474],\n",
       "       [ 0.07158745,  0.27269277,  0.60697224,  0.79435414],\n",
       "       [-0.28741826, -0.63224325,  0.66292359,  1.05411374],\n",
       "       [ 1.028936  ,  0.49892678,  1.11053439,  1.70351275],\n",
       "       [ 0.43059316, -1.98964728,  0.43911819,  0.40471474],\n",
       "       [ 1.62727885,  1.1776288 ,  1.3343398 ,  1.70351275],\n",
       "       [-0.40708683, -1.53717927, -0.00849262, -0.24468427],\n",
       "       [ 0.19125602, -0.40600924,  0.43911819,  0.40471474],\n",
       "       [ 0.6699303 ,  0.27269277,  0.43911819,  0.40471474],\n",
       "       [-0.04808112,  2.08256482, -1.40727638, -1.28372268],\n",
       "       [-0.64642397,  1.4038628 , -1.23942233, -1.28372268],\n",
       "       [ 0.31092459, -0.40600924,  0.55102089,  0.27483494],\n",
       "       [-0.5267554 ,  0.72516079, -1.12751963, -1.28372268],\n",
       "       [ 0.6699303 ,  0.04645877,  0.99863169,  0.79435414],\n",
       "       [-1.36443539,  0.27269277, -1.18347098, -1.28372268],\n",
       "       [-1.48410396,  0.04645877, -1.23942233, -1.28372268],\n",
       "       [-1.12509825, -1.31094526,  0.43911819,  0.66447434],\n",
       "       [-0.88576111, -1.31094526, -0.40015207, -0.11480447],\n",
       "       [ 1.028936  ,  0.04645877,  1.05458304,  1.57363295],\n",
       "       [-1.12509825,  1.1776288 , -1.29537368, -1.41360248],\n",
       "       [ 1.26827314,  0.04645877,  0.94268034,  1.18399355],\n",
       "       [-1.24476682, -0.17977524, -1.29537368, -1.15384288],\n",
       "       [-0.04808112, -0.85847725,  0.10341009,  0.01507533],\n",
       "       [ 0.19125602, -0.85847725,  0.77482629,  0.53459454],\n",
       "       [-1.72344109,  0.27269277, -1.35132503, -1.28372268],\n",
       "       [ 1.14860457,  0.27269277,  1.22243709,  1.44375315],\n",
       "       [ 2.46495884,  1.63009681,  1.50219385,  1.05411374],\n",
       "       [ 0.78959886, -0.17977524,  0.99863169,  0.79435414],\n",
       "       [ 2.10595313, -0.17977524,  1.61409655,  1.18399355],\n",
       "       [ 0.55026173, -0.63224325,  0.77482629,  0.40471474],\n",
       "       [-1.48410396,  0.72516079, -1.29537368, -1.15384288],\n",
       "       [-0.16774969, -1.08471126, -0.12039532, -0.24468427],\n",
       "       [ 1.028936  , -1.31094526,  1.16648574,  0.79435414],\n",
       "       [-0.16774969, -0.63224325,  0.21531279,  0.14495514],\n",
       "       [-1.12509825,  0.04645877, -1.23942233, -1.28372268],\n",
       "       [ 0.6699303 , -0.63224325,  1.05458304,  1.18399355],\n",
       "       [ 1.38794171,  0.27269277,  0.55102089,  0.27483494],\n",
       "       [-0.16774969, -0.40600924,  0.27126414,  0.14495514],\n",
       "       [-1.00542968,  1.1776288 , -1.29537368, -1.28372268],\n",
       "       [-0.5267554 ,  1.85633081, -1.12751963, -1.02396308],\n",
       "       [-0.88576111,  1.63009681, -1.01561692, -1.02396308],\n",
       "       [-0.5267554 , -0.17977524,  0.43911819,  0.40471474],\n",
       "       [ 1.86661599, -0.63224325,  1.3343398 ,  0.92423394],\n",
       "       [ 0.55026173, -0.40600924,  1.05458304,  0.79435414],\n",
       "       [ 0.90926743, -0.17977524,  0.38316684,  0.27483494],\n",
       "       [-1.00542968,  0.72516079, -1.23942233, -1.28372268],\n",
       "       [-0.88576111,  1.63009681, -1.18347098, -1.28372268],\n",
       "       [-0.88576111,  0.95139479, -1.29537368, -1.15384288],\n",
       "       [ 0.78959886, -0.17977524,  1.16648574,  1.31387335],\n",
       "       [-0.04808112, -0.85847725,  0.77482629,  0.92423394],\n",
       "       [ 0.31092459, -0.63224325,  0.15936144,  0.14495514],\n",
       "       [-0.40708683, -1.53717927,  0.04745873, -0.11480447],\n",
       "       [ 0.78959886,  0.27269277,  0.77482629,  1.05411374],\n",
       "       [ 0.78959886, -0.17977524,  0.83077764,  1.05411374],\n",
       "       [ 0.07158745, -0.17977524,  0.77482629,  0.79435414],\n",
       "       [ 0.31092459, -1.08471126,  1.05458304,  0.27483494],\n",
       "       [ 0.6699303 , -0.40600924,  0.32721549,  0.14495514],\n",
       "       [-0.76609254,  0.72516079, -1.29537368, -1.28372268],\n",
       "       [-1.24476682,  0.72516079, -1.18347098, -1.28372268],\n",
       "       [-0.28741826, -0.85847725,  0.27126414,  0.14495514],\n",
       "       [-0.88576111,  0.49892678, -1.12751963, -0.89408328],\n",
       "       [-1.48410396,  1.1776288 , -1.51917908, -1.28372268],\n",
       "       [ 0.31092459, -0.17977524,  0.66292359,  0.79435414],\n",
       "       [-1.00542968, -1.76341327, -0.23229802, -0.24468427],\n",
       "       [-0.16774969,  1.63009681, -1.12751963, -1.15384288],\n",
       "       [-0.76609254,  0.95139479, -1.23942233, -1.28372268],\n",
       "       [-0.40708683,  0.95139479, -1.35132503, -1.28372268],\n",
       "       [-1.12509825, -1.53717927, -0.23229802, -0.24468427],\n",
       "       [-0.5267554 ,  0.72516079, -1.23942233, -1.02396308],\n",
       "       [ 1.028936  ,  0.04645877,  0.38316684,  0.27483494],\n",
       "       [-1.24476682, -0.17977524, -1.29537368, -1.41360248],\n",
       "       [-0.40708683, -1.31094526,  0.15936144,  0.14495514],\n",
       "       [ 0.19125602, -1.98964728,  0.71887494,  0.40471474],\n",
       "       [-1.24476682,  0.04645877, -1.18347098, -1.28372268],\n",
       "       [ 1.028936  ,  0.04645877,  0.55102089,  0.40471474],\n",
       "       [-0.04808112, -1.08471126,  0.15936144,  0.01507533],\n",
       "       [ 0.43059316,  0.72516079,  0.94268034,  1.44375315],\n",
       "       [-1.00542968, -0.17977524, -1.18347098, -1.28372268],\n",
       "       [ 0.19125602, -0.17977524,  0.60697224,  0.79435414],\n",
       "       [-1.84310966, -0.17977524, -1.46322773, -1.41360248],\n",
       "       [-0.28741826, -1.31094526,  0.10341009, -0.11480447],\n",
       "       [ 1.028936  , -0.17977524,  0.71887494,  0.66447434],\n",
       "       [ 2.2256217 , -0.17977524,  1.3343398 ,  1.44375315],\n",
       "       [ 0.55026173,  0.72516079,  1.05458304,  1.57363295],\n",
       "       [-0.40708683,  2.53503283, -1.29537368, -1.28372268],\n",
       "       [ 0.19125602, -1.98964728,  0.15936144, -0.24468427],\n",
       "       [ 2.2256217 , -0.63224325,  1.6700479 ,  1.05411374],\n",
       "       [ 1.74694742, -0.40600924,  1.4462425 ,  0.79435414],\n",
       "       [-0.28741826, -0.17977524,  0.21531279,  0.14495514],\n",
       "       [ 0.78959886, -0.63224325,  0.49506954,  0.40471474],\n",
       "       [ 0.55026173,  0.49892678,  1.27838845,  1.70351275],\n",
       "       [-0.5267554 ,  1.85633081, -1.35132503, -1.02396308],\n",
       "       [ 0.6699303 ,  0.27269277,  0.88672899,  1.44375315],\n",
       "       [-1.00542968,  0.95139479, -1.35132503, -1.15384288],\n",
       "       [-0.88576111,  0.95139479, -1.29537368, -1.28372268],\n",
       "       [ 0.31092459, -0.63224325,  0.55102089,  0.01507533],\n",
       "       [-1.72344109, -0.40600924, -1.29537368, -1.28372268],\n",
       "       [ 1.028936  , -0.17977524,  0.83077764,  1.44375315],\n",
       "       [ 0.55026173, -0.85847725,  0.66292359,  0.79435414],\n",
       "       [-0.16774969, -1.31094526,  0.71887494,  1.05411374],\n",
       "       [-0.28741826, -0.40600924, -0.06444397,  0.14495514],\n",
       "       [-0.16774969,  2.98750084, -1.23942233, -1.02396308],\n",
       "       [ 1.62727885,  0.27269277,  1.27838845,  0.79435414],\n",
       "       [-1.12509825,  0.04645877, -1.23942233, -1.41360248]])"
      ]
     },
     "execution_count": 131,
     "metadata": {},
     "output_type": "execute_result"
    }
   ],
   "source": [
    "# ANS 6:\n",
    "scaler.fit_transform(x_train)"
   ]
  },
  {
   "cell_type": "code",
   "execution_count": 130,
   "id": "1436c01d-bee1-45b0-9a32-1e2adb388e65",
   "metadata": {},
   "outputs": [
    {
     "data": {
      "text/plain": [
       "array([[ 0.55026173, -1.76341327,  0.38316684,  0.14495514],\n",
       "       [ 0.6699303 , -0.85847725,  0.88672899,  0.92423394],\n",
       "       [-0.5267554 ,  1.4038628 , -1.23942233, -1.28372268],\n",
       "       [ 0.31092459, -0.17977524,  0.49506954,  0.27483494],\n",
       "       [-1.00542968,  0.49892678, -1.29537368, -1.28372268],\n",
       "       [-1.00542968, -2.44211529, -0.12039532, -0.24468427],\n",
       "       [ 0.55026173, -1.31094526,  0.66292359,  0.40471474],\n",
       "       [-0.04808112, -0.85847725,  0.21531279, -0.24468427],\n",
       "       [-0.88576111,  0.72516079, -1.23942233, -1.28372268],\n",
       "       [-0.16774969, -0.63224325,  0.43911819,  0.14495514],\n",
       "       [-0.28741826, -0.17977524,  0.43911819,  0.40471474],\n",
       "       [-0.04808112, -0.85847725,  0.77482629,  0.92423394],\n",
       "       [-0.40708683, -1.76341327,  0.15936144,  0.14495514],\n",
       "       [-1.12509825, -0.17977524, -1.29537368, -1.28372268],\n",
       "       [-0.88576111,  1.63009681, -1.23942233, -1.15384288],\n",
       "       [ 1.14860457, -0.17977524,  0.99863169,  1.18399355],\n",
       "       [ 0.19125602,  0.72516079,  0.43911819,  0.53459454],\n",
       "       [-1.72344109, -0.17977524, -1.35132503, -1.28372268],\n",
       "       [-0.88576111,  1.4038628 , -1.23942233, -1.02396308],\n",
       "       [-1.00542968,  0.27269277, -1.40727638, -1.28372268],\n",
       "       [ 1.50761028, -0.17977524,  1.22243709,  1.18399355],\n",
       "       [ 0.6699303 , -0.63224325,  1.05458304,  1.31387335],\n",
       "       [ 0.43059316, -0.63224325,  0.60697224,  0.79435414],\n",
       "       [-1.24476682,  0.72516079, -1.01561692, -1.28372268],\n",
       "       [ 0.07158745, -0.17977524,  0.27126414,  0.40471474],\n",
       "       [-1.36443539,  0.27269277, -1.35132503, -1.28372268],\n",
       "       [-0.16774969, -0.17977524,  0.27126414,  0.01507533],\n",
       "       [-0.40708683, -1.08471126,  0.38316684,  0.01507533],\n",
       "       [ 1.14860457, -0.63224325,  0.60697224,  0.27483494],\n",
       "       [ 2.2256217 ,  1.63009681,  1.6700479 ,  1.31387335],\n",
       "       [ 0.90926743, -0.40600924,  0.49506954,  0.14495514],\n",
       "       [ 0.43059316, -0.40600924,  0.32721549,  0.14495514],\n",
       "       [ 1.62727885, -0.17977524,  1.16648574,  0.53459454],\n",
       "       [-0.04808112, -0.63224325,  0.77482629,  1.57363295],\n",
       "       [ 0.55026173, -1.31094526,  0.71887494,  0.92423394],\n",
       "       [-1.48410396,  0.27269277, -1.29537368, -1.28372268],\n",
       "       [ 1.028936  ,  0.49892678,  1.11053439,  1.18399355],\n",
       "       [ 1.26827314,  0.27269277,  1.11053439,  1.44375315]])"
      ]
     },
     "execution_count": 130,
     "metadata": {},
     "output_type": "execute_result"
    }
   ],
   "source": [
    "scaler.transform(x_test)"
   ]
  },
  {
   "cell_type": "code",
   "execution_count": 137,
   "id": "7efdc912-b33e-4ba5-9132-37a24307b1b1",
   "metadata": {},
   "outputs": [],
   "source": [
    "# ANS 7:\n",
    "# EUCLEDIAN DISTANCE\n",
    "p1 = np.array([1,2])\n",
    "p2 = np.array([3,4])\n",
    "distance = np.sqrt(np.sum((p1 - p2)**2))"
   ]
  },
  {
   "cell_type": "code",
   "execution_count": 138,
   "id": "1fd5b386-fffc-4948-afff-99dae07fd29c",
   "metadata": {},
   "outputs": [
    {
     "data": {
      "text/plain": [
       "2.8284271247461903"
      ]
     },
     "execution_count": 138,
     "metadata": {},
     "output_type": "execute_result"
    }
   ],
   "source": [
    "distance"
   ]
  },
  {
   "cell_type": "code",
   "execution_count": 142,
   "id": "304503b7-7fb5-41df-bffd-539899facec2",
   "metadata": {},
   "outputs": [
    {
     "data": {
      "text/plain": [
       "4"
      ]
     },
     "execution_count": 142,
     "metadata": {},
     "output_type": "execute_result"
    }
   ],
   "source": [
    "# ANS 8:\n",
    "# MANHATTAN DISTANCE\n",
    "d1 = np.sum(p2 - p1)\n",
    "d1"
   ]
  },
  {
   "cell_type": "code",
   "execution_count": null,
   "id": "5c9b20e5-0f77-45d9-9087-8b770b61054d",
   "metadata": {},
   "outputs": [],
   "source": []
  }
 ],
 "metadata": {
  "kernelspec": {
   "display_name": "Python 3 (ipykernel)",
   "language": "python",
   "name": "python3"
  },
  "language_info": {
   "codemirror_mode": {
    "name": "ipython",
    "version": 3
   },
   "file_extension": ".py",
   "mimetype": "text/x-python",
   "name": "python",
   "nbconvert_exporter": "python",
   "pygments_lexer": "ipython3",
   "version": "3.10.8"
  }
 },
 "nbformat": 4,
 "nbformat_minor": 5
}
